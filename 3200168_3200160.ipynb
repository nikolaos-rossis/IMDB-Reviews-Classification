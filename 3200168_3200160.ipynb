{
  "cells": [
    {
      "cell_type": "markdown",
      "source": [
        "# Imported Data Handling"
      ],
      "metadata": {
        "id": "he7TCE-W9uZO"
      }
    },
    {
      "cell_type": "code",
      "execution_count": 1,
      "metadata": {
        "id": "vF90kphqy8pJ"
      },
      "outputs": [],
      "source": [
        "import pandas as pd\n",
        "import numpy as np\n",
        "import matplotlib.pyplot as plt\n",
        "import tensorflow as tf"
      ]
    },
    {
      "cell_type": "code",
      "execution_count": 2,
      "metadata": {
        "id": "HyEobBMHD7ro"
      },
      "outputs": [],
      "source": [
        "(x_train, y_train), (x_test, y_test) = tf.keras.datasets.imdb.load_data(skip_top = 200, num_words=4000)\n",
        "\n",
        "word_index = tf.keras.datasets.imdb.get_word_index()\n",
        "index2word = dict((i + 3, word) for (word, i) in word_index.items())\n",
        "index2word[0] = '[pad]'\n",
        "index2word[1] = '[bos]'\n",
        "index2word[2] = '[oov]'\n",
        "x_train = np.array([' '.join([index2word[idx] for idx in text]) for text in x_train])\n",
        "x_test = np.array([' '.join([index2word[idx] for idx in text]) for text in x_test])"
      ]
    },
    {
      "cell_type": "code",
      "execution_count": 3,
      "metadata": {
        "colab": {
          "base_uri": "https://localhost:8080/"
        },
        "id": "Eyim9287zIHz",
        "outputId": "21ebd0fe-2608-4f3d-ea96-338a89de23f8"
      },
      "outputs": [
        {
          "output_type": "stream",
          "name": "stdout",
          "text": [
            "3801\n"
          ]
        }
      ],
      "source": [
        "vocabulary = list()\n",
        "for text in x_train:\n",
        "  tokens = text.split()\n",
        "  vocabulary.extend(tokens)\n",
        "\n",
        "vocabulary = set(vocabulary)\n",
        "vocabulary =  np.array(list(vocabulary))\n",
        "print(len(vocabulary))\n"
      ]
    },
    {
      "cell_type": "code",
      "execution_count": null,
      "metadata": {
        "id": "0OEaxI9XzNmI"
      },
      "outputs": [],
      "source": [
        "from tqdm import tqdm\n",
        "\n",
        "x_train_binary = list()\n",
        "x_test_binary = list()\n",
        "\n",
        "for text in tqdm(x_train):\n",
        "  tokens = text.split()\n",
        "  binary_vector = list()\n",
        "  for vocab_token in vocabulary:\n",
        "    if vocab_token in tokens:\n",
        "      binary_vector.append(1)\n",
        "    else:\n",
        "      binary_vector.append(0)\n",
        "  x_train_binary.append(binary_vector)\n",
        "\n",
        "x_train_binary = np.array(x_train_binary)\n",
        "\n",
        "for text in tqdm(x_test):\n",
        "  tokens = text.split()\n",
        "  binary_vector = list()\n",
        "  for vocab_token in vocabulary:\n",
        "    if vocab_token in tokens:\n",
        "      binary_vector.append(1)\n",
        "    else:\n",
        "      binary_vector.append(0)\n",
        "  x_test_binary.append(binary_vector)\n",
        "\n",
        "x_test_binary = np.array(x_test_binary)\n"
      ]
    },
    {
      "cell_type": "markdown",
      "source": [
        "# Bernoulli Naive Bayes with Laplace\n"
      ],
      "metadata": {
        "id": "Pl-zA_FDQIrn"
      }
    },
    {
      "cell_type": "code",
      "execution_count": 17,
      "metadata": {
        "id": "JpxPAuWgJq0-"
      },
      "outputs": [],
      "source": [
        "from mpmath import mp\n",
        "\n",
        "#mp.dps = 50"
      ]
    },
    {
      "cell_type": "markdown",
      "source": [
        "Naive Bayes Implementation"
      ],
      "metadata": {
        "id": "Y3xCWDoW9-Bm"
      }
    },
    {
      "cell_type": "code",
      "execution_count": 18,
      "metadata": {
        "id": "OFujWx5eCTE8"
      },
      "outputs": [],
      "source": [
        "class NaiveBayes:\n",
        "  def __init__(self, laplace = 1.0):\n",
        "    self.laplace = laplace\n",
        "    self.class_probs = np.zeros(2) #P(C = 0)[0] KAI P(C = 1)[1]\n",
        "    self.word_probs = list() #index 0 - Vocabulary\n",
        "                             #index 1 - Lista forwn kathe lekshs pou emfanizetai thetika\n",
        "                             #index 2 - Lista forwn kathe lekshs pou emfanizetai arnhtika\n",
        "\n",
        "  def fit(self, x_train, y_train):\n",
        "    print(len(x_train))\n",
        "    num_of_reviews = len(x_train) #25.000\n",
        "    num_of_words = len(x_train[0]) #4.000\n",
        "\n",
        "    #compute C possibilities\n",
        "    #P(C = 1) = synolo thetikwn reviews / synolo reviews\n",
        "    #P(C = 0) = synolo arnhtikwn reviews / synolo reviews\n",
        "\n",
        "    #P(c = c)\n",
        "    self.class_probs[1] = np.sum(y_train) / len(y_train) #P(c = 1) = athrisma twn 1 / megethos listas\n",
        "    self.class_probs[0] = 1 - self.class_probs[1] #P(c = 0) = 1 - P(c = 1)\n",
        "\n",
        "    #Compute X/C possibilities\n",
        "    #ftiaxnei sublist tou x_train_binary pou periexei mono ta thetika kai allo ena me mono ta arnhtika reviews\n",
        "    positive_reviews = x_train[y_train == 1]\n",
        "    negative_reviews = x_train[y_train == 0]\n",
        "\n",
        "    #ftiaxnei sublists pou periexoun thn emfanish twn thetikwn kai twn arnhtikwn leksewn\n",
        "    sum_each_positivewords = np.sum(positive_reviews, axis=0)\n",
        "    sum_each_negativewords = np.sum(negative_reviews, axis=0)\n",
        "\n",
        "    #synolikes thetikes kai arnhtikes lekseis pou xrhsimopoithikan\n",
        "    sum_pos = (np.sum(sum_each_positivewords))\n",
        "    sum_neg = (np.sum(sum_each_negativewords))\n",
        "\n",
        "    self.word_probs.append(vocabulary)\n",
        "    self.word_probs.append(sum_each_positivewords)\n",
        "    self.word_probs.append(sum_each_negativewords)\n",
        "\n",
        "    #cast apo np.int se np.float gia na ginoun swsta oi prakseis apo katw\n",
        "    self.word_probs[1] = self.word_probs[1].astype(np.float64)\n",
        "    self.word_probs[2] = self.word_probs[2].astype(np.float64)\n",
        "\n",
        "    #P(xi | c = c): (emfanish lekshs X + 1 / synolo leksewn se C = C + k)\n",
        "    for i in range(len(self.word_probs[0])):\n",
        "      self.word_probs[1][i] = (self.word_probs[1][i] + self.laplace) / (sum_pos + self.laplace * len(self.word_probs[0]))\n",
        "      self.word_probs[2][i] = (self.word_probs[2][i] + self.laplace) / (sum_neg + self.laplace * len(self.word_probs[0]))\n",
        "\n",
        "\n",
        "  def predict(self, X):\n",
        "    counter = 1\n",
        "    y_predict = np.zeros(len(X))\n",
        "    pos_prob = mp.mpf(self.class_probs[1])\n",
        "    neg_prob = mp.mpf(self.class_probs[0])\n",
        "    for i in range(len(X)): #(0 - 24999)\n",
        "      pos_prob = mp.mpf(self.class_probs[1])\n",
        "      neg_prob = mp.mpf(self.class_probs[0])\n",
        "      for j in range(len(X[0])):#(0 - 3998)\n",
        "        if X[i][j] == 1:\n",
        "\n",
        "          pos_prob = pos_prob * mp.mpf(self.word_probs[1][j])\n",
        "          neg_prob = neg_prob * mp.mpf(self.word_probs[2][j])\n",
        "\n",
        "      if pos_prob > neg_prob:\n",
        "        #print(\"Review \"+ str(i) + \" is POSITIVE\")\n",
        "        y_predict[i] = 1\n",
        "      elif pos_prob < neg_prob:\n",
        "        #print(\"Review \"+ str(i) + \" is NEGATIVE\")\n",
        "        y_predict[i] = 0\n",
        "      else:\n",
        "        print(\"REVIEW NULLIFIED\")\n",
        "\n",
        "    return y_predict.astype(int)\n",
        "\n"
      ]
    },
    {
      "cell_type": "markdown",
      "source": [
        "Classification Report"
      ],
      "metadata": {
        "id": "Agfr3R6z-O2q"
      }
    },
    {
      "cell_type": "code",
      "execution_count": null,
      "metadata": {
        "id": "qe6-P6xfecU0"
      },
      "outputs": [],
      "source": [
        "from sklearn.metrics import classification_report\n",
        "\n",
        "\n",
        "classifier = NaiveBayes(laplace = 1.0)\n",
        "classifier.fit(x_train_binary, y_train)\n",
        "\n",
        "print(classification_report(y_train, classifier.predict(x_train_binary),\n",
        "                            zero_division=1))\n",
        "print(classification_report(y_test, classifier.predict(x_test_binary),\n",
        "                            zero_division=1))\n"
      ]
    },
    {
      "cell_type": "markdown",
      "source": [
        "Data Split for Diagrams"
      ],
      "metadata": {
        "id": "l3UABSok_APp"
      }
    },
    {
      "cell_type": "code",
      "source": [
        "from sklearn.model_selection import train_test_split\n",
        "# split rest of the train data into train and dev\n",
        "x_trainbinary_copy, x_dev_binary, y_traincopy, y_dev = train_test_split(x_train_binary, y_train,\n",
        "                                                                test_size=0.3)\n",
        "print(x_train_binary.shape)\n",
        "print(x_trainbinary_copy.shape)"
      ],
      "metadata": {
        "id": "ewRCZz24QG35",
        "colab": {
          "base_uri": "https://localhost:8080/"
        },
        "outputId": "eb976c09-d928-4bc2-ae69-9803a9444f60"
      },
      "execution_count": 20,
      "outputs": [
        {
          "output_type": "stream",
          "name": "stdout",
          "text": [
            "(25000, 301)\n",
            "(17500, 301)\n"
          ]
        }
      ]
    },
    {
      "cell_type": "markdown",
      "source": [
        "Learning Curve"
      ],
      "metadata": {
        "id": "qQqpC_Dh-nmz"
      }
    },
    {
      "cell_type": "code",
      "source": [
        "from sklearn.metrics import accuracy_score\n",
        "def custom_learning_curve(x_train, y_train,\n",
        "                          x_val, y_val, x_test, y_test,\n",
        "                          n_splits):\n",
        "\n",
        "  split_size = int(len(x_train) / n_splits)\n",
        "  x_splits = np.split(x_train, n_splits) # must be equal division\n",
        "  y_splits = np.split(y_train, n_splits)\n",
        "  train_accuracies = list()\n",
        "  val_accuracies = list()\n",
        "  test_accuracies = list()\n",
        "  curr_x = x_splits[0]\n",
        "  print(curr_x.shape)\n",
        "  curr_y = y_splits[0]\n",
        "  print(curr_y.shape)\n",
        "  classifier = NaiveBayes()\n",
        "  classifier.fit(curr_x, curr_y)\n",
        "  train_accuracies.append(accuracy_score(curr_y,\n",
        "                                         classifier.predict(curr_x)))\n",
        "\n",
        "  val_accuracies.append(accuracy_score(y_val, classifier.predict(x_val)))\n",
        "  test_accuracies.append(accuracy_score(y_test, classifier.predict(x_test)))\n",
        "\n",
        "  for i in range(1, len(x_splits)):\n",
        "    classifier = NaiveBayes()\n",
        "    curr_x = np.concatenate((curr_x, x_splits[i]), axis=0)\n",
        "    print(curr_x.shape)\n",
        "    curr_y = np.concatenate((curr_y, y_splits[i]), axis=0)\n",
        "    print(curr_y.shape)\n",
        "    classifier.fit(curr_x, curr_y)\n",
        "\n",
        "    train_accuracies.append(accuracy_score(curr_y,\n",
        "                                           classifier.predict(curr_x)))\n",
        "\n",
        "    val_accuracies.append(accuracy_score(y_val, classifier.predict(x_val)))\n",
        "\n",
        "    test_accuracies.append(accuracy_score(y_test, classifier.predict(x_test)))\n",
        "\n",
        "  plt.plot(list(range(split_size, len(x_train) + split_size,\n",
        "                      split_size)), train_accuracies, 'o-', color=\"b\",\n",
        "             label=\"Training accuracy\")\n",
        "  plt.plot(list(range(split_size, len(x_train) + split_size,\n",
        "                      split_size)), val_accuracies, 'o-', color=\"green\",\n",
        "           label=\"Validation accuracy\")\n",
        "  plt.plot(list(range(split_size, len(x_train) + split_size,\n",
        "                      split_size)), test_accuracies, 'o-', color=\"red\",\n",
        "           label=\"Testing accuracy\")\n",
        "  plt.legend(loc=\"lower right\")\n",
        "  plt.show()\n",
        "\n",
        "custom_learning_curve(x_train=x_trainbinary_copy , y_train=y_traincopy,\n",
        "                      x_val=x_dev_binary, y_val=y_dev, x_test=x_test_binary,\n",
        "                      y_test=y_test, n_splits=10)"
      ],
      "metadata": {
        "id": "4V3GVGbRJonq"
      },
      "execution_count": null,
      "outputs": []
    },
    {
      "cell_type": "markdown",
      "source": [
        "# SkLearn Bernoulli Naive Bayes"
      ],
      "metadata": {
        "id": "Jh35VnSUQWS_"
      }
    },
    {
      "cell_type": "markdown",
      "source": [
        "Classification Report"
      ],
      "metadata": {
        "id": "d4Ii1nzv9ZYX"
      }
    },
    {
      "cell_type": "code",
      "source": [
        "from sklearn.naive_bayes import BernoulliNB\n",
        "bernoulli_nb = BernoulliNB(alpha = 1.0)\n",
        "bernoulli_nb.fit(x_train_binary, y_train)\n",
        "print(classification_report(y_train, bernoulli_nb.predict(x_train_binary),\n",
        "                            zero_division=1))\n",
        "print(classification_report(y_test, bernoulli_nb.predict(x_test_binary),\n",
        "                            zero_division=1))\n",
        "\n"
      ],
      "metadata": {
        "colab": {
          "base_uri": "https://localhost:8080/"
        },
        "id": "8s3274aiQcDZ",
        "outputId": "d2944a45-3179-405c-d3f3-cc90b34c21a9"
      },
      "execution_count": null,
      "outputs": [
        {
          "output_type": "stream",
          "name": "stdout",
          "text": [
            "              precision    recall  f1-score   support\n",
            "\n",
            "           0       0.86      0.87      0.86     12500\n",
            "           1       0.87      0.85      0.86     12500\n",
            "\n",
            "    accuracy                           0.86     25000\n",
            "   macro avg       0.86      0.86      0.86     25000\n",
            "weighted avg       0.86      0.86      0.86     25000\n",
            "\n",
            "              precision    recall  f1-score   support\n",
            "\n",
            "           0       0.83      0.86      0.84     12500\n",
            "           1       0.86      0.82      0.84     12500\n",
            "\n",
            "    accuracy                           0.84     25000\n",
            "   macro avg       0.84      0.84      0.84     25000\n",
            "weighted avg       0.84      0.84      0.84     25000\n",
            "\n"
          ]
        }
      ]
    },
    {
      "cell_type": "markdown",
      "source": [
        "Learning Curve"
      ],
      "metadata": {
        "id": "tTP_f4am9Rpn"
      }
    },
    {
      "cell_type": "code",
      "source": [
        "from sklearn.metrics import accuracy_score\n",
        "def custom_learning_curve(x_train, y_train,\n",
        "                          x_val, y_val, x_test, y_test,\n",
        "                          n_splits):\n",
        "\n",
        "  split_size = int(len(x_train) / n_splits)\n",
        "  x_splits = np.split(x_train, n_splits) # must be equal division\n",
        "  y_splits = np.split(y_train, n_splits)\n",
        "  train_accuracies = list()\n",
        "  val_accuracies = list()\n",
        "  test_accuracies = list()\n",
        "  curr_x = x_splits[0]\n",
        "  print(curr_x.shape)\n",
        "  curr_y = y_splits[0]\n",
        "  print(curr_y.shape)\n",
        "  classifier = BernoulliNB(alpha = 1.0)\n",
        "  classifier.fit(curr_x, curr_y)\n",
        "  train_accuracies.append(accuracy_score(curr_y,\n",
        "                                         classifier.predict(curr_x)))\n",
        "\n",
        "  val_accuracies.append(accuracy_score(y_val, classifier.predict(x_val)))\n",
        "  test_accuracies.append(accuracy_score(y_test, classifier.predict(x_test)))\n",
        "\n",
        "  for i in range(1, len(x_splits)):\n",
        "    classifier = BernoulliNB(alpha = 1.0)\n",
        "    curr_x = np.concatenate((curr_x, x_splits[i]), axis=0)\n",
        "    print(curr_x.shape)\n",
        "    curr_y = np.concatenate((curr_y, y_splits[i]), axis=0)\n",
        "    print(curr_y.shape)\n",
        "    classifier.fit(curr_x, curr_y)\n",
        "\n",
        "    train_accuracies.append(accuracy_score(curr_y,\n",
        "                                           classifier.predict(curr_x)))\n",
        "\n",
        "    val_accuracies.append(accuracy_score(y_val, classifier.predict(x_val)))\n",
        "\n",
        "    test_accuracies.append(accuracy_score(y_test, classifier.predict(x_test)))\n",
        "\n",
        "  plt.plot(list(range(split_size, len(x_train) + split_size,\n",
        "                      split_size)), train_accuracies, 'o-', color=\"b\",\n",
        "             label=\"Training accuracy\")\n",
        "  plt.plot(list(range(split_size, len(x_train) + split_size,\n",
        "                      split_size)), val_accuracies, 'o-', color=\"green\",\n",
        "           label=\"Validation accuracy\")\n",
        "  plt.plot(list(range(split_size, len(x_train) + split_size,\n",
        "                      split_size)), test_accuracies, 'o-', color=\"red\",\n",
        "           label=\"Testing accuracy\")\n",
        "  plt.legend(loc=\"lower right\")\n",
        "  plt.show()\n",
        "\n",
        "custom_learning_curve(x_train=x_trainbinary_copy , y_train=y_traincopy,\n",
        "                      x_val=x_dev_binary, y_val=y_dev, x_test=x_test_binary,\n",
        "                      y_test=y_test, n_splits=10)"
      ],
      "metadata": {
        "colab": {
          "base_uri": "https://localhost:8080/",
          "height": 777
        },
        "id": "wrqjm1l19Q2P",
        "outputId": "e80bb64f-1249-4d53-f3bf-63a3a4f95497"
      },
      "execution_count": null,
      "outputs": [
        {
          "output_type": "stream",
          "name": "stdout",
          "text": [
            "(1750, 3801)\n",
            "(1750,)\n",
            "(3500, 3801)\n",
            "(3500,)\n",
            "(5250, 3801)\n",
            "(5250,)\n",
            "(7000, 3801)\n",
            "(7000,)\n",
            "(8750, 3801)\n",
            "(8750,)\n",
            "(10500, 3801)\n",
            "(10500,)\n",
            "(12250, 3801)\n",
            "(12250,)\n",
            "(14000, 3801)\n",
            "(14000,)\n",
            "(15750, 3801)\n",
            "(15750,)\n",
            "(17500, 3801)\n",
            "(17500,)\n"
          ]
        },
        {
          "output_type": "display_data",
          "data": {
            "text/plain": [
              "<Figure size 640x480 with 1 Axes>"
            ],
            "image/png": "[encoded data removed]"
          },
          "metadata": {}
        }
      ]
    },
    {
      "cell_type": "markdown",
      "metadata": {
        "id": "moOkMJaZm4-Y"
      },
      "source": [
        "# Logistic Regression with Stochastic Gradient Ascend + L2 regularization\n"
      ]
    },
    {
      "cell_type": "markdown",
      "source": [
        "Logistic Regression SGA with L2 regularization"
      ],
      "metadata": {
        "id": "ic0SA8oqw_n4"
      }
    },
    {
      "cell_type": "code",
      "execution_count": 24,
      "metadata": {
        "id": "GHk6q5RQm8ud"
      },
      "outputs": [],
      "source": [
        "class LogisticRegressionSGA_L2:\n",
        "    def __init__(self, h = 0.1, lambda_ = 0.1 , repeats = 10):\n",
        "      self.h = h\n",
        "      self.repeats = repeats\n",
        "      self.lambda_ = lambda_\n",
        "      self.weights = None\n",
        "\n",
        "\n",
        "    def sigmoid(self, z):\n",
        "        return 1 / (1 + np.exp(-z))\n",
        "\n",
        "    def fit(self, x_train, y_train):\n",
        "      self.weights = np.zeros(len(x_train[0])) # Vector W (4000)\n",
        "      for p in range(self.repeats):\n",
        "        for i in range(len(x_train)): #25.000\n",
        "          z = self.sigmoid(np.dot(x_train[i], self.weights)) # z1 = x1*w1 + x2*w2, + x3*w3 + ... + xn*wn\n",
        "          gradient = (y_train[i] - z) * x_train[i] #typos gia gradient\n",
        "          gradient = gradient - (self.lambda_ * self.weights) #typos gia gradient me L2 regul\n",
        "          self.weights += self.h * gradient #typos gia gradient ascent me L2 regul\n",
        "\n",
        "\n",
        "\n",
        "    def predict(self, x_train):\n",
        "        y_predict = list()\n",
        "        for x in x_train:\n",
        "            z = self.sigmoid(np.dot(x, self.weights))\n",
        "            if z >= 0.5:\n",
        "              y_predict.append(1)\n",
        "            else:\n",
        "              y_predict.append(0)\n",
        "        return y_predict\n",
        "\n"
      ]
    },
    {
      "cell_type": "markdown",
      "source": [
        "Classification Report"
      ],
      "metadata": {
        "id": "Zk3nNZjPw9Ti"
      }
    },
    {
      "cell_type": "code",
      "execution_count": 25,
      "metadata": {
        "id": "nAzaXt4nW311",
        "colab": {
          "base_uri": "https://localhost:8080/"
        },
        "outputId": "8fa26b88-2cd8-41a7-f9f2-22d96a3deb3d"
      },
      "outputs": [
        {
          "output_type": "stream",
          "name": "stdout",
          "text": [
            "              precision    recall  f1-score   support\n",
            "\n",
            "           0       0.80      0.77      0.78     12500\n",
            "           1       0.78      0.80      0.79     12500\n",
            "\n",
            "    accuracy                           0.79     25000\n",
            "   macro avg       0.79      0.79      0.79     25000\n",
            "weighted avg       0.79      0.79      0.79     25000\n",
            "\n",
            "              precision    recall  f1-score   support\n",
            "\n",
            "           0       0.80      0.77      0.78     12500\n",
            "           1       0.78      0.80      0.79     12500\n",
            "\n",
            "    accuracy                           0.79     25000\n",
            "   macro avg       0.79      0.79      0.79     25000\n",
            "weighted avg       0.79      0.79      0.79     25000\n",
            "\n"
          ]
        }
      ],
      "source": [
        "classifier = LogisticRegressionSGA_L2(0.0001, 0.1, 100)\n",
        "classifier.fit(x_train_binary, y_train)\n",
        "from sklearn.metrics import classification_report\n",
        "print(classification_report(y_train, classifier.predict(x_train_binary)))\n",
        "print(classification_report(y_test, classifier.predict(x_test_binary)))"
      ]
    },
    {
      "cell_type": "markdown",
      "source": [
        "Learning Curve"
      ],
      "metadata": {
        "id": "TXnecIVExEcK"
      }
    },
    {
      "cell_type": "code",
      "source": [
        "from sklearn.metrics import accuracy_score\n",
        "def custom_learning_curve(x_train, y_train,\n",
        "                          x_val, y_val, x_test, y_test,\n",
        "                          n_splits):\n",
        "\n",
        "  split_size = int(len(x_train) / n_splits)\n",
        "  x_splits = np.split(x_train, n_splits)\n",
        "  y_splits = np.split(y_train, n_splits)\n",
        "  train_accuracies = list()\n",
        "  val_accuracies = list()\n",
        "  test_accuracies = list()\n",
        "  curr_x = x_splits[0]\n",
        "  print(curr_x.shape)\n",
        "  curr_y = y_splits[0]\n",
        "  print(curr_y.shape)\n",
        "  classifier =  LogisticRegressionSGA_L2(0.001, 0.1, 100)\n",
        "  classifier.fit(curr_x, curr_y)\n",
        "  train_accuracies.append(accuracy_score(curr_y,\n",
        "                                         classifier.predict(curr_x)))\n",
        "\n",
        "  val_accuracies.append(accuracy_score(y_val, classifier.predict(x_val)))\n",
        "  test_accuracies.append(accuracy_score(y_test, classifier.predict(x_test)))\n",
        "\n",
        "  for i in range(1, len(x_splits)):\n",
        "    lsga =  LogisticRegressionSGA_L2(0.001, 0.1, 100)\n",
        "    curr_x = np.concatenate((curr_x, x_splits[i]), axis=0)\n",
        "    print(curr_x.shape)\n",
        "    curr_y = np.concatenate((curr_y, y_splits[i]), axis=0)\n",
        "    print(curr_y.shape)\n",
        "    classifier.fit(curr_x, curr_y)\n",
        "\n",
        "    train_accuracies.append(accuracy_score(curr_y,\n",
        "                                           classifier.predict(curr_x)))\n",
        "\n",
        "    val_accuracies.append(accuracy_score(y_val, classifier.predict(x_val)))\n",
        "\n",
        "    test_accuracies.append(accuracy_score(y_test, classifier.predict(x_test)))\n",
        "\n",
        "  plt.plot(list(range(split_size, len(x_train) + split_size,\n",
        "                      split_size)), train_accuracies, 'o-', color=\"b\",\n",
        "             label=\"Training accuracy\")\n",
        "  plt.plot(list(range(split_size, len(x_train) + split_size,\n",
        "                      split_size)), val_accuracies, 'o-', color=\"green\",\n",
        "           label=\"Validation accuracy\")\n",
        "  plt.plot(list(range(split_size, len(x_train) + split_size,\n",
        "                      split_size)), test_accuracies, 'o-', color=\"red\",\n",
        "           label=\"Testing accuracy\")\n",
        "  plt.legend(loc=\"lower right\")\n",
        "  plt.show()\n",
        "\n",
        "custom_learning_curve(x_train=x_trainbinary_copy , y_train=y_traincopy,\n",
        "                      x_val=x_dev_binary, y_val=y_dev, x_test=x_test_binary,\n",
        "                      y_test=y_test, n_splits=10)"
      ],
      "metadata": {
        "id": "xYNZsFbPMqFW"
      },
      "execution_count": null,
      "outputs": []
    },
    {
      "cell_type": "markdown",
      "source": [
        "# Logistic Regression Sklearn SGD with L2"
      ],
      "metadata": {
        "id": "8VPV92DRUvCG"
      }
    },
    {
      "cell_type": "markdown",
      "source": [
        "Classification Report"
      ],
      "metadata": {
        "id": "SZrgwEuejMuk"
      }
    },
    {
      "cell_type": "code",
      "source": [
        "from sklearn.linear_model import SGDClassifier\n",
        "classifier = SGDClassifier(loss='log_loss', learning_rate='constant', eta0=0.001,\n",
        "                           alpha=0.1, max_iter=100)\n",
        "classifier.fit(x_train_binary, y_train)\n",
        "print(classification_report(y_train, classifier.predict(x_train_binary)))\n",
        "print(classification_report(y_test, classifier.predict(x_test_binary)))"
      ],
      "metadata": {
        "colab": {
          "base_uri": "https://localhost:8080/"
        },
        "id": "_MUWcKTHc6sQ",
        "outputId": "21d16da7-b1e5-414d-ba8a-de3798516290"
      },
      "execution_count": null,
      "outputs": [
        {
          "output_type": "stream",
          "name": "stdout",
          "text": [
            "              precision    recall  f1-score   support\n",
            "\n",
            "           0       0.88      0.82      0.85     12500\n",
            "           1       0.83      0.89      0.86     12500\n",
            "\n",
            "    accuracy                           0.85     25000\n",
            "   macro avg       0.85      0.85      0.85     25000\n",
            "weighted avg       0.85      0.85      0.85     25000\n",
            "\n",
            "              precision    recall  f1-score   support\n",
            "\n",
            "           0       0.87      0.81      0.84     12500\n",
            "           1       0.82      0.88      0.85     12500\n",
            "\n",
            "    accuracy                           0.84     25000\n",
            "   macro avg       0.84      0.84      0.84     25000\n",
            "weighted avg       0.84      0.84      0.84     25000\n",
            "\n"
          ]
        }
      ]
    },
    {
      "cell_type": "markdown",
      "source": [
        "Learning Curve"
      ],
      "metadata": {
        "id": "q8qTjmj6jQ7g"
      }
    },
    {
      "cell_type": "code",
      "source": [
        "from sklearn.metrics import accuracy_score\n",
        "def custom_learning_curve(x_train, y_train,\n",
        "                          x_val, y_val, x_test, y_test,\n",
        "                          n_splits):\n",
        "\n",
        "  split_size = int(len(x_train) / n_splits)\n",
        "  x_splits = np.split(x_train, n_splits) # must be equal division\n",
        "  y_splits = np.split(y_train, n_splits)\n",
        "  train_accuracies = list()\n",
        "  val_accuracies = list()\n",
        "  test_accuracies = list()\n",
        "  curr_x = x_splits[0]\n",
        "  print(curr_x.shape)\n",
        "  curr_y = y_splits[0]\n",
        "  print(curr_y.shape)\n",
        "  lsga = SGDClassifier(loss='log_loss', learning_rate='constant', eta0=0.001, alpha=0.1, max_iter=100)\n",
        "  lsga.fit(curr_x, curr_y)\n",
        "  train_accuracies.append(accuracy_score(curr_y,\n",
        "                                         lsga.predict(curr_x)))\n",
        "\n",
        "  val_accuracies.append(accuracy_score(y_val, lsga.predict(x_val)))\n",
        "  test_accuracies.append(accuracy_score(y_test, lsga.predict(x_test)))\n",
        "\n",
        "  for i in range(1, len(x_splits)):\n",
        "    lsga = SGDClassifier(loss='log_loss', learning_rate='constant', eta0=0.001, alpha=0.1, max_iter=100)\n",
        "    curr_x = np.concatenate((curr_x, x_splits[i]), axis=0)\n",
        "    print(curr_x.shape)\n",
        "    curr_y = np.concatenate((curr_y, y_splits[i]), axis=0)\n",
        "    print(curr_y.shape)\n",
        "    lsga.fit(curr_x, curr_y)\n",
        "\n",
        "    train_accuracies.append(accuracy_score(curr_y,\n",
        "                                           lsga.predict(curr_x)))\n",
        "\n",
        "    val_accuracies.append(accuracy_score(y_val, lsga.predict(x_val)))\n",
        "\n",
        "    test_accuracies.append(accuracy_score(y_test, lsga.predict(x_test)))\n",
        "\n",
        "  plt.plot(list(range(split_size, len(x_train) + split_size,\n",
        "                      split_size)), train_accuracies, 'o-', color=\"b\",\n",
        "             label=\"Training accuracy\")\n",
        "  plt.plot(list(range(split_size, len(x_train) + split_size,\n",
        "                      split_size)), val_accuracies, 'o-', color=\"green\",\n",
        "           label=\"Validation accuracy\")\n",
        "  plt.plot(list(range(split_size, len(x_train) + split_size,\n",
        "                      split_size)), test_accuracies, 'o-', color=\"red\",\n",
        "           label=\"Testing accuracy\")\n",
        "  plt.legend(loc=\"lower right\")\n",
        "  plt.show()\n",
        "\n",
        "custom_learning_curve(x_train=x_trainbinary_copy , y_train=y_traincopy,\n",
        "                      x_val=x_dev_binary, y_val=y_dev, x_test=x_test_binary,\n",
        "                      y_test=y_test, n_splits=10)"
      ],
      "metadata": {
        "colab": {
          "base_uri": "https://localhost:8080/",
          "height": 777
        },
        "id": "ivxH1KLzjTle",
        "outputId": "2c57534e-45ce-4b67-d9ee-c69da3c70593"
      },
      "execution_count": null,
      "outputs": [
        {
          "output_type": "stream",
          "name": "stdout",
          "text": [
            "(1750, 3801)\n",
            "(1750,)\n",
            "(3500, 3801)\n",
            "(3500,)\n",
            "(5250, 3801)\n",
            "(5250,)\n",
            "(7000, 3801)\n",
            "(7000,)\n",
            "(8750, 3801)\n",
            "(8750,)\n",
            "(10500, 3801)\n",
            "(10500,)\n",
            "(12250, 3801)\n",
            "(12250,)\n",
            "(14000, 3801)\n",
            "(14000,)\n",
            "(15750, 3801)\n",
            "(15750,)\n",
            "(17500, 3801)\n",
            "(17500,)\n"
          ]
        },
        {
          "output_type": "display_data",
          "data": {
            "text/plain": [
              "<Figure size 640x480 with 1 Axes>"
            ],
            "image/png": "[encoded data removed]"
          },
          "metadata": {}
        }
      ]
    },
    {
      "cell_type": "markdown",
      "source": [
        "# Data Preprocessing For RNN"
      ],
      "metadata": {
        "id": "-v2kESYy3QnT"
      }
    },
    {
      "cell_type": "code",
      "source": [
        "import tensorflow as tf\n",
        "import numpy as np\n",
        "from tensorflow.keras.preprocessing.text import Tokenizer\n",
        "from tensorflow.keras.preprocessing.sequence import pad_sequences\n",
        "from sklearn.model_selection import train_test_split\n",
        "\n",
        "\n",
        "tokenizer = Tokenizer(num_words=3801)\n",
        "tokenizer.fit_on_texts(x_train)\n",
        "\n",
        "\n",
        "x_train_curve, x_dev_curve, y_train_curve, y_dev_curve = train_test_split(x_train, y_train,\n",
        "                                                                test_size=0.3)\n",
        "\n",
        "x_train_sequences = tokenizer.texts_to_sequences(x_train)\n",
        "x_test_sequences = tokenizer.texts_to_sequences(x_test)\n",
        "\n",
        "x_train_curve_sequences = tokenizer.texts_to_sequences(x_train_curve)\n",
        "x_dev_curve_sequences = tokenizer.texts_to_sequences(x_dev_curve)\n",
        "\n",
        "\n"
      ],
      "metadata": {
        "id": "NQGGOvj88nQr"
      },
      "execution_count": 4,
      "outputs": []
    },
    {
      "cell_type": "code",
      "source": [
        "print(len(x_train_sequences))\n",
        "print(len(x_train))"
      ],
      "metadata": {
        "colab": {
          "base_uri": "https://localhost:8080/"
        },
        "id": "DHBjMfBnKEkn",
        "outputId": "6a866751-4512-4769-a0eb-0488af0b482c"
      },
      "execution_count": null,
      "outputs": [
        {
          "output_type": "stream",
          "name": "stdout",
          "text": [
            "25000\n",
            "25000\n"
          ]
        }
      ]
    },
    {
      "cell_type": "code",
      "source": [
        "max_len = max(len(seq) for seq in x_train_sequences)\n",
        "print(\"Maximum sequence length:\", max_len)\n",
        "max_len = max(len(seq) for seq in x_test_sequences)\n",
        "print(\"Maximum sequence length:\", max_len)\n",
        "\n",
        "avg_len_train = sum(len(seq) > 200 for seq in x_train_sequences)\n",
        "print(\"Average sequence length for training data:\", avg_len_train)\n",
        "\n",
        "avg_len_test = sum(len(seq) > 200 for seq in x_test_sequences)\n",
        "print(\"Average sequence length for test data:\", avg_len_test)"
      ],
      "metadata": {
        "colab": {
          "base_uri": "https://localhost:8080/"
        },
        "id": "vlvuweTHwF6z",
        "outputId": "98a10343-8575-43d6-b839-cd1625f18dee"
      },
      "execution_count": 5,
      "outputs": [
        {
          "output_type": "stream",
          "name": "stdout",
          "text": [
            "Maximum sequence length: 2494\n",
            "Maximum sequence length: 2315\n",
            "Average sequence length for training data: 10677\n",
            "Average sequence length for test data: 10268\n"
          ]
        }
      ]
    },
    {
      "cell_type": "code",
      "source": [
        "x_train = pad_sequences(x_train_sequences, maxlen=200)\n",
        "x_test = pad_sequences(x_test_sequences, maxlen=200)\n",
        "x_train_curve = pad_sequences(x_train_curve_sequences, maxlen=200)\n",
        "x_dev_curve = pad_sequences(x_dev_curve_sequences, maxlen=200)"
      ],
      "metadata": {
        "id": "9P4Ne8cz941f"
      },
      "execution_count": 6,
      "outputs": []
    },
    {
      "cell_type": "markdown",
      "source": [
        "# Keras RNN with Word Embeddings"
      ],
      "metadata": {
        "id": "zvh1sqIt3ahs"
      }
    },
    {
      "cell_type": "markdown",
      "source": [
        "Model Compile"
      ],
      "metadata": {
        "id": "7OLyffiX3hgA"
      }
    },
    {
      "cell_type": "code",
      "source": [
        "from tensorflow.keras.utils import plot_model\n",
        "from IPython.display import Image\n",
        "\n",
        "\n",
        "imdb_rnn = tf.keras.models.Sequential([\n",
        "    tf.keras.layers.Embedding(input_dim=3801, output_dim=30, input_length=200),\n",
        "    tf.keras.layers.LSTM(16),\n",
        "    tf.keras.layers.Dropout(0.5),\n",
        "    tf.keras.layers.Dense(1, activation='sigmoid')\n",
        "])\n",
        "\n",
        "imdb_rnn_copy = tf.keras.models.Sequential([\n",
        "    tf.keras.layers.Embedding(input_dim=3801, output_dim=30, input_length=200),\n",
        "    tf.keras.layers.LSTM(16, dropout = 0.2),\n",
        "    tf.keras.layers.Dense(1, activation='sigmoid')\n",
        "])\n",
        "\n",
        "imdb_rnn.compile(loss=tf.keras.losses.BinaryCrossentropy(),\n",
        "                  optimizer=tf.keras.optimizers.Adam(),\n",
        "                  metrics=['binary_accuracy'])\n",
        "\n",
        "imdb_rnn_copy.compile(loss=tf.keras.losses.BinaryCrossentropy(),\n",
        "                  optimizer=tf.keras.optimizers.Adam(),\n",
        "                  metrics=['binary_accuracy'])\n"
      ],
      "metadata": {
        "id": "v8EvT4Za90hf"
      },
      "execution_count": 7,
      "outputs": []
    },
    {
      "cell_type": "markdown",
      "source": [
        "Training, Evaluation and Classification Report"
      ],
      "metadata": {
        "id": "Z0y-6jQx4DEE"
      }
    },
    {
      "cell_type": "code",
      "source": [
        "imdb_rnn.fit(x=x_train, y=y_train,epochs=10, verbose=1, batch_size=32)\n",
        "\n",
        "print(imdb_rnn.evaluate(x_test, y_test))"
      ],
      "metadata": {
        "colab": {
          "base_uri": "https://localhost:8080/"
        },
        "id": "U_VZqD0Ijo1O",
        "outputId": "27a624f1-5fcb-4fee-9f1f-cca8638bb877"
      },
      "execution_count": 10,
      "outputs": [
        {
          "output_type": "stream",
          "name": "stdout",
          "text": [
            "782/782 [==============================] - 14s 17ms/step - loss: 0.4067 - binary_accuracy: 0.8382\n",
            "[0.40666142106056213, 0.8381999731063843]\n"
          ]
        }
      ]
    },
    {
      "cell_type": "code",
      "source": [
        "from sklearn.metrics import classification_report\n",
        "\n",
        "y_pred_imdb = imdb_rnn.predict(x_test)\n",
        "\n",
        "y_pred_imdb = (y_pred_imdb >= 0.5).astype(int)\n",
        "\n",
        "print(classification_report(y_test, y_pred_imdb, zero_division=1))"
      ],
      "metadata": {
        "colab": {
          "base_uri": "https://localhost:8080/"
        },
        "id": "bSsNaryvnO4U",
        "outputId": "ba076bb3-8095-43a9-9ecc-37e9c7584ce9"
      },
      "execution_count": 11,
      "outputs": [
        {
          "output_type": "stream",
          "name": "stdout",
          "text": [
            "782/782 [==============================] - 15s 17ms/step\n",
            "[0.10328107]\n",
            "              precision    recall  f1-score   support\n",
            "\n",
            "           0       0.82      0.86      0.84     12500\n",
            "           1       0.85      0.82      0.83     12500\n",
            "\n",
            "    accuracy                           0.84     25000\n",
            "   macro avg       0.84      0.84      0.84     25000\n",
            "weighted avg       0.84      0.84      0.84     25000\n",
            "\n"
          ]
        }
      ]
    },
    {
      "cell_type": "markdown",
      "source": [
        "RNN Loss Plot"
      ],
      "metadata": {
        "id": "ut4csot04O15"
      }
    },
    {
      "cell_type": "code",
      "source": [
        "imdb_rnn_history = imdb_rnn_copy.fit(x_train, y_train, batch_size=32,\n",
        "                                  epochs=10, validation_split=0.3)"
      ],
      "metadata": {
        "id": "jfW2itJ9clYl"
      },
      "execution_count": null,
      "outputs": []
    },
    {
      "cell_type": "code",
      "execution_count": 9,
      "metadata": {
        "id": "GHryqfOlm1wk"
      },
      "outputs": [],
      "source": [
        "def plot(his, kind):\n",
        "  train = his.history[kind]\n",
        "  val = his.history['val_' + kind]\n",
        "  epochs = range(1, len(train)+1)\n",
        "  plt.figure(figsize=(12,9))\n",
        "  plt.plot(epochs, train, 'b', label='Training ' + kind)\n",
        "  plt.plot(epochs, val, 'orange', label='Validation ' + kind)\n",
        "  plt.title('Training and validation ' + kind)\n",
        "  plt.xlabel('Epochs')\n",
        "  plt.ylabel(kind)\n",
        "  # x1, x2, y1, y2 = plt.axis()\n",
        "  # plt.axis((x1, x2, 0, 0.2))\n",
        "  plt.legend()\n",
        "  plt.show()"
      ]
    },
    {
      "cell_type": "code",
      "execution_count": 10,
      "metadata": {
        "colab": {
          "base_uri": "https://localhost:8080/",
          "height": 795
        },
        "id": "lJJfBuQAm1wl",
        "outputId": "7c7b139d-e164-44b0-d04e-94f23c057553"
      },
      "outputs": [
        {
          "output_type": "display_data",
          "data": {
            "text/plain": [
              "<Figure size 1200x900 with 1 Axes>"
            ],
            "image/png": "[encoded data removed]"
          },
          "metadata": {}
        }
      ],
      "source": [
        "plot(imdb_rnn_history, 'loss')"
      ]
    },
    {
      "cell_type": "markdown",
      "source": [
        "Learning Curve"
      ],
      "metadata": {
        "id": "b2uGgqVA4TV_"
      }
    },
    {
      "cell_type": "code",
      "source": [
        "from sklearn.metrics import accuracy_score\n",
        "def custom_learning_curve(x_train, y_train,\n",
        "                          x_val, y_val, x_test, y_test,\n",
        "                          n_splits):\n",
        "\n",
        "  split_size = int(len(x_train) / n_splits)\n",
        "  x_splits = np.split(x_train, n_splits) # must be equal division\n",
        "  y_splits = np.split(y_train, n_splits)\n",
        "  train_accuracies = list()\n",
        "  val_accuracies = list()\n",
        "  test_accuracies = list()\n",
        "  curr_x = x_splits[0]\n",
        "  print(curr_x.shape)\n",
        "  curr_y = y_splits[0]\n",
        "  print(curr_y.shape)\n",
        "\n",
        "\n",
        "  #y_pred_imdb = (y_pred_imdb >= 0.5).astype(int)\n",
        "\n",
        "  classifier = imdb_rnn\n",
        "  classifier.fit(x=curr_x, y=curr_y,epochs=5, verbose=1, batch_size=32)\n",
        "\n",
        "  classifier_pred = classifier.predict(curr_x)\n",
        "  classifier_pred = (classifier_pred >= 0.5).astype(int)\n",
        "\n",
        "  train_accuracies.append(accuracy_score(curr_y, classifier_pred)) #classifier.predict(curr_x)\n",
        "\n",
        "  classifier_pred = classifier.predict(x_val)\n",
        "  classifier_pred = (classifier_pred >= 0.5).astype(int)\n",
        "\n",
        "  val_accuracies.append(accuracy_score(y_val, classifier_pred)) #classifier.predict(x_val)\n",
        "\n",
        "  classifier_pred = classifier.predict(x_test)\n",
        "  classifier_pred = (classifier_pred >= 0.5).astype(int)\n",
        "\n",
        "  test_accuracies.append(accuracy_score(y_test, classifier_pred)) #classifier.predict(x_test)\n",
        "\n",
        "  for i in range(1, len(x_splits)):\n",
        "    classifier = imdb_rnn\n",
        "    curr_x = np.concatenate((curr_x, x_splits[i]), axis=0)\n",
        "    print(curr_x.shape)\n",
        "    curr_y = np.concatenate((curr_y, y_splits[i]), axis=0)\n",
        "    print(curr_y.shape)\n",
        "    classifier.fit(x=curr_x, y=curr_y,epochs=5, verbose=1, batch_size=32)\n",
        "\n",
        "    classifier_pred = classifier.predict(curr_x)\n",
        "    classifier_pred = (classifier_pred >= 0.5).astype(int)\n",
        "\n",
        "    train_accuracies.append(accuracy_score(curr_y, classifier_pred))#classifier.predict(curr_x)\n",
        "\n",
        "    classifier_pred = classifier.predict(x_val)\n",
        "    classifier_pred = (classifier_pred >= 0.5).astype(int)\n",
        "\n",
        "    val_accuracies.append(accuracy_score(y_val, classifier_pred))#classifier.predict(x_val)\n",
        "\n",
        "    classifier_pred = classifier.predict(x_test)\n",
        "    classifier_pred = (classifier_pred >= 0.5).astype(int)\n",
        "\n",
        "    test_accuracies.append(accuracy_score(y_test, classifier_pred))#classifier.predict(x_test)\n",
        "\n",
        "  plt.plot(list(range(split_size, len(x_train) + split_size,\n",
        "                      split_size)), train_accuracies, 'o-', color=\"b\",\n",
        "             label=\"Training accuracy\")\n",
        "  plt.plot(list(range(split_size, len(x_train) + split_size,\n",
        "                      split_size)), val_accuracies, 'o-', color=\"green\",\n",
        "           label=\"Validation accuracy\")\n",
        "  plt.plot(list(range(split_size, len(x_train) + split_size,\n",
        "                      split_size)), test_accuracies, 'o-', color=\"red\",\n",
        "           label=\"Testing accuracy\")\n",
        "  plt.legend(loc=\"lower right\")\n",
        "  plt.show()\n",
        "\n",
        "custom_learning_curve(x_train=x_train_curve, y_train=y_train_curve,\n",
        "                      x_val=x_dev_curve, y_val=y_dev_curve, x_test=x_test,\n",
        "                      y_test=y_test, n_splits=5)"
      ],
      "metadata": {
        "id": "KTxA1uTn4jig"
      },
      "execution_count": null,
      "outputs": []
    }
  ],
  "metadata": {
    "colab": {
      "provenance": [],
      "collapsed_sections": [
        "he7TCE-W9uZO",
        "Pl-zA_FDQIrn",
        "Jh35VnSUQWS_",
        "moOkMJaZm4-Y",
        "8VPV92DRUvCG",
        "-v2kESYy3QnT",
        "zvh1sqIt3ahs"
      ]
    },
    "kernelspec": {
      "display_name": "Python 3",
      "name": "python3"
    },
    "language_info": {
      "name": "python"
    }
  },
  "nbformat": 4,
  "nbformat_minor": 0
}